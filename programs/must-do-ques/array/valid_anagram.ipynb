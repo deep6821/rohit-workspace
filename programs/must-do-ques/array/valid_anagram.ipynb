{
 "cells": [
  {
   "cell_type": "code",
   "execution_count": null,
   "metadata": {},
   "outputs": [],
   "source": [
    "\"\"\"\n",
    "An Anagram is a word or phrase formed by rearranging the letters of a different \n",
    "word or phrase, typically using all the original letters exactly once.\n",
    "\"\"\""
   ]
  },
  {
   "cell_type": "code",
   "execution_count": 10,
   "metadata": {},
   "outputs": [
    {
     "name": "stdout",
     "output_type": "stream",
     "text": [
      "True\n"
     ]
    }
   ],
   "source": [
    "\"\"\"\n",
    "The time complexity of this solution is O(n), where n is the length of the strings\n",
    "as it iterates through both strings once. The space complexity is also O(n) due to\n",
    "the dictionaries storing the character frequencies.\n",
    "\"\"\"\n",
    "def valid_anagram(s, t):\n",
    "    if len(s) != len(t):\n",
    "        return False\n",
    "    \n",
    "    char_count_s = {}\n",
    "    char_count_t = {}\n",
    "\n",
    "    # Count characters in string s\n",
    "    for char in s:\n",
    "        char_count_s[char] = char_count_s.get(char, 0) + 1\n",
    "\n",
    "    # Count characters in string t\n",
    "    for char in t:\n",
    "        char_count_t[char] = char_count_t.get(char, 0) + 1\n",
    "\n",
    "    # Compare character frequencies\n",
    "    return char_count_s == char_count_t\n",
    "\n",
    "s = \"anagram\"\n",
    "t = \"nagaram\"\n",
    "print(valid_anagram(s, t))\n"
   ]
  },
  {
   "cell_type": "code",
   "execution_count": 7,
   "metadata": {},
   "outputs": [
    {
     "name": "stdout",
     "output_type": "stream",
     "text": [
      "[['eat', 'tea', 'ate'], ['tan', 'nat'], ['bat']]\n"
     ]
    }
   ],
   "source": [
    "# Group Anagram\n",
    "\n",
    "# Time and space complexity is: O(n⋅klogk), O(n⋅k), where n is the total number \n",
    "# of characters in all words combined, and k is the average length of the words.\n",
    "\n",
    "# Input: strs = [\"eat\",\"tea\",\"tan\",\"ate\",\"nat\",\"bat\"]\n",
    "# Output: [[\"bat\"],[\"nat\",\"tan\"],[\"ate\",\"eat\",\"tea\"]]\n",
    "\n",
    "from collections import defaultdict\n",
    "\n",
    "input_strs = [\"eat\",\"tea\",\"tan\",\"ate\",\"nat\",\"bat\"]\n",
    "group_anagram = defaultdict(list)\n",
    "for input_str in input_strs:\n",
    "    sorted_input_str = \"\".join(sorted(input_str))\n",
    "    group_anagram[sorted_input_str].append(input_str)\n",
    "\n",
    "output = list(group_anagram.values())\n",
    "print(output)\n"
   ]
  }
 ],
 "metadata": {
  "kernelspec": {
   "display_name": ".venv",
   "language": "python",
   "name": "python3"
  },
  "language_info": {
   "codemirror_mode": {
    "name": "ipython",
    "version": 3
   },
   "file_extension": ".py",
   "mimetype": "text/x-python",
   "name": "python",
   "nbconvert_exporter": "python",
   "pygments_lexer": "ipython3",
   "version": "3.9.6"
  }
 },
 "nbformat": 4,
 "nbformat_minor": 2
}
