{
 "cells": [
  {
   "cell_type": "code",
   "execution_count": 5,
   "metadata": {},
   "outputs": [
    {
     "name": "stdout",
     "output_type": "stream",
     "text": [
      "1 ===>> True\n",
      "2 ===>> True\n"
     ]
    }
   ],
   "source": [
    "# Time and space complexity: O(n)\n",
    "\n",
    "def contains_duplicate_using_set(nums):\n",
    "    unique_elements = set()\n",
    "    for num in nums:\n",
    "        if num in unique_elements:\n",
    "            return True\n",
    "        unique_elements.add(num)\n",
    "                \n",
    "    return False\n",
    "\n",
    "def contains_duplicate_using_dict(nums):\n",
    "    unique_elements = dict()\n",
    "    for num in nums:\n",
    "        if num in unique_elements:\n",
    "            return True\n",
    "        unique_elements[num] = 1\n",
    "                \n",
    "    return False\n",
    "\n",
    "nums = [1,2,3,1]\n",
    "print(\"1 ===>>\", contains_duplicate_using_set(nums))\n",
    "print(\"2 ===>>\", contains_duplicate_using_dict(nums))\n"
   ]
  }
 ],
 "metadata": {
  "kernelspec": {
   "display_name": ".venv",
   "language": "python",
   "name": "python3"
  },
  "language_info": {
   "codemirror_mode": {
    "name": "ipython",
    "version": 3
   },
   "file_extension": ".py",
   "mimetype": "text/x-python",
   "name": "python",
   "nbconvert_exporter": "python",
   "pygments_lexer": "ipython3",
   "version": "3.9.6"
  }
 },
 "nbformat": 4,
 "nbformat_minor": 2
}
