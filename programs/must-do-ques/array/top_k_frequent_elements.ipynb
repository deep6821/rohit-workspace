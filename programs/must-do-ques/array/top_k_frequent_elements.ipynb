{
 "cells": [
  {
   "cell_type": "code",
   "execution_count": null,
   "metadata": {},
   "outputs": [],
   "source": [
    "\"\"\"\n",
    "Given an integer array nums and an integer k, return the k most frequent elements.\n",
    "You may return the answer in any order.\n",
    "\n",
    "Example 1:\n",
    "    Input: nums = [1,1,1,2,2,3], k = 2\n",
    "    Output: [1,2]\n",
    "Example 2:\n",
    "    Input: nums = [1], k = 1\n",
    "    Output: [1]\n",
    "\"\"\""
   ]
  },
  {
   "cell_type": "code",
   "execution_count": null,
   "metadata": {},
   "outputs": [],
   "source": [
    "\"\"\"\n",
    "Heap-based Approach:\n",
    "Pros:\n",
    "    1. It has a time complexity of O(NlogK), which can be more efficient than the\n",
    "       sorting-based approach for large datasets, especially when K is \n",
    "       significantly smaller than N.\n",
    "    2. It is memory efficient as it only requires space for K elements in the heap.\n",
    "Cons:\n",
    "    1. It might be slightly more complex to implement than the sorting-based approach.\n",
    "\n",
    "Sorting-based Approach:\n",
    "Pros:\n",
    "    1. The time complexity is O(NlogN), which is asymptotically worse than the \n",
    "       heap-based approach but may perform well for moderate-sized datasets.\n",
    "    2. The implementation is straightforward and easy to understand.\n",
    "Cons:\n",
    "    1. It may be less efficient for large datasets compared to the heap-based approach.\n",
    "\n",
    "Considerations:\n",
    "    1. If K is relatively small compared to N and the efficiency of the algorithm\n",
    "       is crucial, the heap-based approach is generally preferred.\n",
    "    2. If the dataset is small or moderate in size, and simplicity and \n",
    "       readability of the code are more important, the sorting-based approach may \n",
    "       be a reasonable choice.\n",
    "\"\"\""
   ]
  },
  {
   "cell_type": "code",
   "execution_count": 1,
   "metadata": {},
   "outputs": [
    {
     "name": "stdout",
     "output_type": "stream",
     "text": [
      "[1, 2]\n"
     ]
    },
    {
     "data": {
      "text/plain": [
       "'\\nAlgorithm Explanation:\\n1. Counting Frequencies:\\n    Counter(nums) creates a dictionary (count_dict) where keys are elements from \\n    nums, and values are their frequencies.\\n2. Creating a Max Heap:\\n    max_heap = [(-count, num) for num, count in count_dict.items()] creates a list\\n    of tuples where each tuple contains the negation of the count (to simulate a \\n    max heap) and the corresponding element.\\n3. Heapify:\\n    heapq.heapify(max_heap) transforms the list into a max heap. This operation \\n    ensures that the element with the maximum negated count is at the root of the\\n    heap.\\n4. Extracting Top K Elements:\\n    i) [heapq.heappop(max_heap)[1] for _ in range(k)] extracts the top k elements\\n       from the max heap.\\n        a) heapq.heappop(max_heap) pops the element with the maximum negated count\\n          (max frequency).\\n        b) [1] accesses the original element (not the negated count).\\n        c) The list comprehension is repeated k times to get the top k elements.\\n5. Result:\\nThe final result is a list of the top k frequent elements.\\n\\nExample:\\nFor the example usage with nums = [1, 1, 1, 2, 2, 3] and k = 2:\\n\\n1. count_dict is Counter({1: 3, 2: 2, 3: 1}).\\n2. max_heap becomes [(-3, 1), (-2, 2), (-1, 3)].\\n3. After heapify, the max heap becomes [(3, 1), (2, 2), (1, 3)].\\n4. The result is [1, 2].\\n'"
      ]
     },
     "execution_count": 1,
     "metadata": {},
     "output_type": "execute_result"
    }
   ],
   "source": [
    "from collections import Counter\n",
    "import heapq\n",
    "\n",
    "def top_k_frequent(nums, k):\n",
    "    # Count the frequency of each element\n",
    "    count_dict = Counter(nums)\n",
    "    \n",
    "    # Use a max heap to keep track of the top k frequent elements\n",
    "    max_heap = [(-count, num) for num, count in count_dict.items()]\n",
    "\n",
    "    # Heapify the list to transform it into a max heap\n",
    "    heapq.heapify(max_heap)\n",
    "\n",
    "    # Extract the elements from the max heap\n",
    "    result = [heapq.heappop(max_heap)[1] for _ in range(k)]\n",
    "\n",
    "    return result\n",
    "\n",
    "\n",
    "# Example usage\n",
    "nums = [1, 1, 1, 2, 2, 3]\n",
    "k = 2\n",
    "output = top_k_frequent(nums, k)\n",
    "print(output)\n",
    "\n",
    "\"\"\"\n",
    "Algorithm Explanation:\n",
    "1. Counting Frequencies:\n",
    "    Counter(nums) creates a dictionary (count_dict) where keys are elements from \n",
    "    nums, and values are their frequencies.\n",
    "2. Creating a Max Heap:\n",
    "    max_heap = [(-count, num) for num, count in count_dict.items()] creates a list\n",
    "    of tuples where each tuple contains the negation of the count (to simulate a \n",
    "    max heap) and the corresponding element.\n",
    "3. Heapify:\n",
    "    heapq.heapify(max_heap) transforms the list into a max heap. This operation \n",
    "    ensures that the element with the maximum negated count is at the root of the\n",
    "    heap.\n",
    "4. Extracting Top K Elements:\n",
    "    i) [heapq.heappop(max_heap)[1] for _ in range(k)] extracts the top k elements\n",
    "       from the max heap.\n",
    "        a) heapq.heappop(max_heap) pops the element with the maximum negated count\n",
    "          (max frequency).\n",
    "        b) [1] accesses the original element (not the negated count).\n",
    "        c) The list comprehension is repeated k times to get the top k elements.\n",
    "5. Result:\n",
    "The final result is a list of the top k frequent elements.\n",
    "\n",
    "Example:\n",
    "For the example usage with nums = [1, 1, 1, 2, 2, 3] and k = 2:\n",
    "\n",
    "1. count_dict is Counter({1: 3, 2: 2, 3: 1}).\n",
    "2. max_heap becomes [(-3, 1), (-2, 2), (-1, 3)].\n",
    "3. After heapify, the max heap becomes [(3, 1), (2, 2), (1, 3)].\n",
    "4. The result is [1, 2].\n",
    "\"\"\""
   ]
  },
  {
   "cell_type": "code",
   "execution_count": 17,
   "metadata": {},
   "outputs": [
    {
     "name": "stdout",
     "output_type": "stream",
     "text": [
      "[1, 2]\n"
     ]
    }
   ],
   "source": [
    "def top_k_frequent(nums, k):\n",
    "    frequency_counter = {}\n",
    "    \n",
    "    for num in nums:\n",
    "        frequency_counter[num] = frequency_counter.get(num, 0) + 1\n",
    "\n",
    "    # Sort the frequency_counter items based on frequency in descending order\n",
    "    sorted_frequency_items = sorted(frequency_counter.items(), key=lambda x: x[1], reverse=True)\n",
    "\n",
    "    # Select the top k items from the sorted list\n",
    "    top_k_items = sorted_frequency_items[:k]\n",
    "\n",
    "    # Convert the selected items to a dictionary\n",
    "    ordered_dict = dict(top_k_items)\n",
    "\n",
    "    # Return the keys as a list\n",
    "    return list(ordered_dict.keys())\n",
    "\n",
    "\n",
    "# Example usage\n",
    "nums = [1, 1, 1, 2, 2, 3]\n",
    "k = 2\n",
    "# nums = [1]\n",
    "# k = 1\n",
    "output = top_k_frequent(nums, k)\n",
    "print(output)"
   ]
  }
 ],
 "metadata": {
  "kernelspec": {
   "display_name": ".venv",
   "language": "python",
   "name": "python3"
  },
  "language_info": {
   "codemirror_mode": {
    "name": "ipython",
    "version": 3
   },
   "file_extension": ".py",
   "mimetype": "text/x-python",
   "name": "python",
   "nbconvert_exporter": "python",
   "pygments_lexer": "ipython3",
   "version": "3.9.6"
  }
 },
 "nbformat": 4,
 "nbformat_minor": 2
}
