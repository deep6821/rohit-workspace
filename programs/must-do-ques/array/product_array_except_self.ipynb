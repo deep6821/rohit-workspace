{
 "cells": [
  {
   "cell_type": "code",
   "execution_count": null,
   "metadata": {},
   "outputs": [],
   "source": [
    "\"\"\"\n",
    "Product of Array Except Self\n",
    "----------------------------\n",
    "\n",
    "Given an integer array nums, return an array answer such that answer[i] is equal \n",
    "to the product of all the elements of nums except nums[i].\n",
    "\n",
    "The product of any prefix or suffix of nums is guaranteed to fit in a 32-bit \n",
    "integer.\n",
    "\n",
    "You must write an algorithm that runs in O(n) time and without using the division\n",
    "operation\n",
    "\n",
    "Example 1:\n",
    "    Input: nums = [1,2,3,4]\n",
    "    Output: [24,12,8,6]\n",
    "Example 2:\n",
    "    Input: nums = [-1,1,0,-3,3]\n",
    "    Output: [0,0,9,0,0]\n",
    "\"\"\""
   ]
  },
  {
   "cell_type": "code",
   "execution_count": null,
   "metadata": {},
   "outputs": [],
   "source": [
    "def product_except_self(nums):\n",
    "    products = []\n",
    "    for i in nums:\n",
    "        pass\n",
    "\n",
    "\n",
    "nums = [1,2,3,4]\n",
    "print(product_except_self(nums))\n"
   ]
  }
 ],
 "metadata": {
  "language_info": {
   "name": "python"
  }
 },
 "nbformat": 4,
 "nbformat_minor": 2
}
