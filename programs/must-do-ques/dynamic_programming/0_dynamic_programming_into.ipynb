{
 "cells": [
  {
   "cell_type": "code",
   "execution_count": null,
   "metadata": {},
   "outputs": [],
   "source": [
    "\"\"\"\n",
    "What is dynamic programming?\n",
    "---------------------------\n",
    "Dynamic programming algorithms solve problems by combining results of\n",
    "sub-problems just like divide and conquer algorithms.\n",
    "\n",
    "Characteristics\n",
    "---------------\n",
    "Overlapping Sub-problems: The sub-problems of a given problem are not independent.\n",
    "In other words, two sub-problems share a problem.\n",
    "\n",
    "Optimal Substructure Property: The overall optimal solution of the problem can\n",
    "be constructed from the optimal solutions of its sub-problems.\n",
    "\n",
    "Dynamic programming patterns\n",
    "----------------------------\n",
    "1. Memoization (top-down): The memorized version of a problem is similar to the\n",
    "regular recursive version, except that it looks for the answer of a sub-problem\n",
    "in a lookup table before computing its solution.\n",
    "\n",
    "The top-down memoization approach starts from a large problem and breaks it\n",
    "down into smaller parts.\n",
    "\n",
    "2. Tabulation (bottom-up): Tabulation is the opposite of the top-down approach\n",
    "and it avoids recursion. In this approach, we solve the problem “bottom-up”.\n",
    "This is typically done by filling up a lookup table and computing the solution\n",
    "to the top/original problem based on the results in the table.\n",
    "\n",
    "The bottom-up tabulation approach starts from a small problem and builds up to\n",
    "a larger one\n",
    "\n",
    "Advantages\n",
    "----------\n",
    "1. Being a recursive programming technique, it reduces the lines of code.\n",
    "2. It speeds up the processing, as we use the answer of a previously-calculated\n",
    "sub-problem to get the next one.\n",
    "\n",
    "Disadvantages:\n",
    "-------------\n",
    "1. It takes a lot of memory to store the calculated result of every sub-problem\n",
    "without ensuring if the stored value will be utilized or not, which leads to\n",
    "unnecessary memory utilization.\n",
    "2. There is no general form for problems solved by dynamic programming, i.e.,\n",
    "every problem has to be solved in its own way.\n",
    "\n",
    "\"\"\"\n"
   ]
  }
 ],
 "metadata": {
  "language_info": {
   "name": "python"
  }
 },
 "nbformat": 4,
 "nbformat_minor": 2
}
