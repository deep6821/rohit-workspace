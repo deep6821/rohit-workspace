{
 "cells": [
  {
   "cell_type": "code",
   "execution_count": null,
   "metadata": {},
   "outputs": [],
   "source": [
    "\"\"\"\n",
    "What is sorting?\n",
    "Sorting is any process of arranging items systematically. In computer science,\n",
    "sorting algorithms put elements of a list in a certain order.\n",
    "\n",
    "The most frequently used orders are numerical (according to numbers) and\n",
    "lexicographical (according to letters).\n",
    "\n",
    "Efficient sorting is important for optimizing the efficiency of other algorithms,\n",
    "which require sorted input or the sort of a given input as part of their process.\n",
    "\n",
    "\"\"\""
   ]
  }
 ],
 "metadata": {
  "language_info": {
   "name": "python"
  }
 },
 "nbformat": 4,
 "nbformat_minor": 2
}
