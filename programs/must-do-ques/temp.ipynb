{
 "cells": [
  {
   "cell_type": "code",
   "execution_count": 25,
   "metadata": {},
   "outputs": [
    {
     "name": "stdout",
     "output_type": "stream",
     "text": [
      "Maximum Profit: 0\n",
      "days:  [5, 1]\n",
      "Buy on day: 5\n",
      "Sell on day: 1\n"
     ]
    }
   ],
   "source": [
    "\"\"\"\n",
    "You are given an array prices where prices[i] is the price of a given stock on the ith day.\n",
    "\n",
    "You want to maximize your profit by choosing a single day to buy one stock and choosing a \n",
    "different day in the future to sell that stock.\n",
    "\n",
    "Return the maximum profit you can achieve from this transaction. If you cannot achieve any \n",
    "profit, return 0.\n",
    "\"\"\"\n",
    "\n",
    "# def get_max_profit(prices):\n",
    "#     if len(prices) < 2:\n",
    "#         return 0\n",
    "\n",
    "#     min_price = prices[0]\n",
    "#     max_profit = 0\n",
    "\n",
    "#     for price in prices[1:]:\n",
    "#         max_profit = max(max_profit, price - min_price)\n",
    "#         min_price = min(min_price, price)\n",
    "\n",
    "#     return max_profit\n",
    "\n",
    "def get_max_profit(prices):\n",
    "    if len(prices) < 2:\n",
    "        return 0, []\n",
    "\n",
    "    buy_day, sell_day = 0, 0\n",
    "    min_price = prices[0]\n",
    "    max_profit = 0\n",
    "\n",
    "    for i in range(1, len(prices)):\n",
    "        if prices[i] < min_price:\n",
    "            min_price = prices[i]\n",
    "            buy_day = i\n",
    "\n",
    "        elif prices[i] - min_price > max_profit:\n",
    "            max_profit = prices[i] - min_price\n",
    "            sell_day = i\n",
    "\n",
    "    return max_profit, [buy_day + 1, sell_day + 1]\n",
    "\n",
    "# Example usage:\n",
    "prices = [7, 1, 5, 3, 6, 4]\n",
    "prices = [7,6,4,3,1]\n",
    "profit, days = get_max_profit(prices)\n",
    "print(\"Maximum Profit:\", profit)\n",
    "print(\"days: \", days)\n",
    "print(\"Buy on day:\", days[0])\n",
    "print(\"Sell on day:\", days[1])\n"
   ]
  },
  {
   "cell_type": "code",
   "execution_count": 31,
   "metadata": {},
   "outputs": [
    {
     "name": "stdout",
     "output_type": "stream",
     "text": [
      "Maximum Profit: 7\n"
     ]
    },
    {
     "ename": "",
     "evalue": "",
     "output_type": "error",
     "traceback": [
      "\u001b[1;31mThe Kernel crashed while executing code in the the current cell or a previous cell. Please review the code in the cell(s) to identify a possible cause of the failure. Click <a href='https://aka.ms/vscodeJupyterKernelCrash'>here</a> for more info. View Jupyter <a href='command:jupyter.viewOutput'>log</a> for further details."
     ]
    }
   ],
   "source": [
    "\"\"\"\n",
    "You are given an integer array prices where prices[i] is the price of a given stock on the ith \n",
    "day.\n",
    "\n",
    "On each day, you may decide to buy and/or sell the stock. You can only hold at most one share \n",
    "of the stock at any time. However, you can buy it then immediately sell it on the same day.\n",
    "\n",
    "Find and return the maximum profit you can achieve.\n",
    "\"\"\"\n",
    "\n",
    "# Hint: To solve this problem, you need to iterate through the array of prices and accumulate \n",
    "# the positive differences between consecutive days. This way, you can capture all the price \n",
    "# increases.\n",
    "\n",
    "def get_max_profit2(prices):\n",
    "    if len(prices) < 2:\n",
    "        return 0\n",
    "    \n",
    "    max_profit = 0\n",
    "    buy_day, sell_day = 0, 0\n",
    "\n",
    "    for i in range(1, len(prices)):\n",
    "        if prices[i] > prices[i-1]:\n",
    "            max_profit = max_profit + prices[i] - prices[i-1]\n",
    "            sell_day = i\n",
    "            buy_day = i - 1\n",
    "\n",
    "    return max_profit\n",
    "\n",
    "# Example usage:\n",
    "prices = [7, 1, 5, 3, 6, 4]\n",
    "# prices = [7,6,4,3,1]\n",
    "profit = get_max_profit2(prices)\n",
    "print(\"Maximum Profit:\", profit)\n"
   ]
  },
  {
   "cell_type": "code",
   "execution_count": null,
   "metadata": {},
   "outputs": [],
   "source": [
    "\"\"\"\n",
    "You are given an array prices where prices[i] is the price of a given stock on the ith day.\n",
    "\n",
    "Find the maximum profit you can achieve. You may complete at most two transactions.\n",
    "\n",
    "Note: You may not engage in multiple transactions simultaneously (i.e., you must sell the stock\n",
    "before you buy again).\n",
    "\"\"\""
   ]
  },
  {
   "cell_type": "code",
   "execution_count": null,
   "metadata": {},
   "outputs": [],
   "source": [
    "# Best Time to Buy and Sell Stock with Cooldown\n",
    "\"\"\"\n",
    "You are given an array prices where prices[i] is the price of a given stock on the ith day.\n",
    "\n",
    "Find the maximum profit you can achieve. You may complete as many transactions as you like (\n",
    "i.e., buy one and sell one share of the stock multiple times)\n",
    "with the following restrictions:\n",
    "    After you sell your stock, you cannot buy stock on the next day (i.e., cooldown one day).\n",
    "\n",
    "Note: You may not engage in multiple transactions simultaneously \n",
    "(i.e., you must sell the stock before you buy again).\n",
    "\n",
    " \n",
    "\n",
    "Example 1:\n",
    "\n",
    "Input: prices = [1,2,3,0,2]\n",
    "Output: 3\n",
    "Explanation: transactions = [buy, sell, cooldown, buy, sell]\n",
    "\"\"\""
   ]
  }
 ],
 "metadata": {
  "kernelspec": {
   "display_name": ".venv",
   "language": "python",
   "name": "python3"
  },
  "language_info": {
   "codemirror_mode": {
    "name": "ipython",
    "version": 3
   },
   "file_extension": ".py",
   "mimetype": "text/x-python",
   "name": "python",
   "nbconvert_exporter": "python",
   "pygments_lexer": "ipython3",
   "version": "3.9.6"
  }
 },
 "nbformat": 4,
 "nbformat_minor": 2
}
