{
 "cells": [
  {
   "cell_type": "code",
   "execution_count": null,
   "metadata": {},
   "outputs": [],
   "source": [
    "\"\"\"\n",
    "1. Brute force: linear search\n",
    "-----------------------------\n",
    "\n",
    "How linear search works?\n",
    "========================\n",
    "Go through each element one by one. When the element you are searching for is\n",
    "found, return its index.\n",
    "\n",
    "Performance of linear search:\n",
    "=============================\n",
    "Linear search runs in O(n) in the worst case. This is because it makes at most\n",
    "n comparisons, where n is the length of the list.\n",
    "\n",
    "\n",
    "Binary search:\n",
    "--------------\n",
    "You must have already encountered Binary Search if you have studied computer\n",
    "science in college. In fact, it is the one that is most associated with\n",
    "searching algorithms.\n",
    "\n",
    "How binary search works?\n",
    "========================\n",
    "The key idea is simple. Assuming that the input array is sorted, compare the\n",
    "element that is being searched for with the element at the middle of the array.\n",
    "\n",
    "If the element being searched for is greater than the element at the middle of\n",
    "the array, recursively check for it in the second half of the given array.\n",
    "Otherwise, search for it in the first half of the given array.\n",
    "\n",
    "Performance of binary search:\n",
    "=============================\n",
    "Binary search runs in O(log(n)) This is because the list is halved at every\n",
    "iteration.\n",
    "\"\"\""
   ]
  }
 ],
 "metadata": {
  "language_info": {
   "name": "python"
  }
 },
 "nbformat": 4,
 "nbformat_minor": 2
}
