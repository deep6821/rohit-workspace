{
 "cells": [
  {
   "cell_type": "code",
   "execution_count": 1,
   "metadata": {},
   "outputs": [],
   "source": [
    "from typing import List"
   ]
  },
  {
   "cell_type": "code",
   "execution_count": 7,
   "metadata": {},
   "outputs": [
    {
     "name": "stdout",
     "output_type": "stream",
     "text": [
      "5\n"
     ]
    }
   ],
   "source": [
    "\"\"\"\n",
    "You are climbing a staircase. It takes n steps to reach the top.\n",
    "Each time you can either climb 1 or 2 steps. In how many distinct ways \n",
    "can you climb to the top?\n",
    "\n",
    "# Time Complexity: O(n)\n",
    "# Space Complexity: O(n)\n",
    "\"\"\"\n",
    "def climb_stairs(n: int) -> int:\n",
    "    step = [0]*(n+1)\n",
    "    if n == 1 or n==2:\n",
    "        return n\n",
    "    \n",
    "    step[1] = 1\n",
    "    step[2] = 2\n",
    "    for i in range(3, n+1):\n",
    "        step[i] = step[i-1] + step[i-2]\n",
    "        \n",
    "    return step[n]\n",
    "\n",
    "\n",
    "n = 4\n",
    "print(climb_stairs(n))\n"
   ]
  },
  {
   "cell_type": "code",
   "execution_count": 8,
   "metadata": {},
   "outputs": [
    {
     "name": "stdout",
     "output_type": "stream",
     "text": [
      "4\n"
     ]
    }
   ],
   "source": [
    "\"\"\"\n",
    "You are a professional robber planning to rob houses along a street. Each\n",
    "house has a certain amount of money stashed, the only constraint stopping \n",
    "you from robbing each of them is that adjacent houses have security \n",
    "systems connected and it will automatically contact the police if two \n",
    "adjacent houses were broken into on the same night.\n",
    "\n",
    "Given an integer array nums representing the amount of money of each \n",
    "house, return the maximum amount of money you can rob tonight without \n",
    "alerting the police.\n",
    "\n",
    "# Time Complexity: O(n)\n",
    "# Space Complexity: O(n)\n",
    "\"\"\"\n",
    "def rob_using_bottom_up_approach(nums: List[int]) -> int:\n",
    "    n = len(nums)\n",
    "    if not nums:\n",
    "        return 0\n",
    "    if n == 1:\n",
    "        return nums[0]\n",
    "     \n",
    "    dp = [0] * n\n",
    "    dp[0] = nums[0]\n",
    "    dp[1] = max(nums[0], nums[1])\n",
    "\n",
    "    for i in range(2, n):\n",
    "        dp[i] = max(dp[i-1], nums[i] + dp[i-2])\n",
    "    \n",
    "    return dp[n-1]\n",
    "\n",
    "nums = [1,2,3,1]\n",
    "print(rob_using_bottom_up_approach(nums))"
   ]
  },
  {
   "cell_type": "code",
   "execution_count": 12,
   "metadata": {},
   "outputs": [
    {
     "name": "stdout",
     "output_type": "stream",
     "text": [
      "None\n"
     ]
    }
   ],
   "source": [
    "\"\"\"\n",
    "Given a string s and a dictionary of strings wordDict, return true if s \n",
    "can be segmented into a space-separated sequence of one or more \n",
    "dictionary words.\n",
    "\n",
    "Note that the same word in the dictionary may be reused multiple times \n",
    "in the segmentation.\n",
    "\"\"\"\n",
    "def word_break(s: str, word_dict: List[str]) -> bool:\n",
    "    pass\n",
    "\n",
    "s = \"leetcode\"\n",
    "word_dict = [\"leet\", \"code\"]\n",
    "print(word_break(s, word_dict))"
   ]
  },
  {
   "cell_type": "code",
   "execution_count": null,
   "metadata": {},
   "outputs": [],
   "source": [
    "We have created a Python data pipeline to transfer data from the cleaned layer to the curated layer. In this case, we are saving a copy of the data as a sandbox for a data scientist. Then we have a SQL Query that a data scientist uses to access the data and reshape it from the data lakehouse/data warehouse to a shape suitable for machine learning.\n",
    "\n",
    "```python\n",
    "import pandas\n",
    "import glob\n",
    "\n",
    "all_files = glob.glob(storageLocation +'cleaned/sales/202*/*')\n",
    "\n",
    "df_list = []\n",
    "\n",
    "for filename in all_files:\n",
    "  temp_df = pandas.read_csv(filename)\n",
    "  df_list.append(temp_df)\n",
    "\n",
    "df = pandas.concat(df_list, ignore_index=True)\n",
    "df = df[df['year'] == 2023]\n",
    "\n",
    "df_header = df[['SalesOrderID', 'SoldTo', 'CustomerType', 'CustomerSize']].drop_duplicates()\n",
    "df_header.to_parquet(storageLocation +'curated/sales/SalesHeader_experiment1.parquet')\n",
    "\n",
    "df_detail = df[['SalesOrderID', 'SalesOrderLineID', 'LineLastModified', 'ShipTo', 'ShippingAmount', 'OrderDate']]\n",
    "df_detail.to_parquet(storageLocation +'curated/sales/SalesDetail_experiment1.parquet')\n",
    "```\n",
    "\n",
    "```sql\n",
    "SELECT DISTINCT * \n",
    "FROM SalesHeader_experiment1 \n",
    "INNER JOIN (\n",
    "    SELECT \n",
    "      SalesOrderID, MAX(ShipTo), MAX(ShippingAmount) \n",
    "    FROM SalesDetail_experiment1 \n",
    "    GROUP BY SalesOrderID\n",
    "  ) AS SalesDetail \n",
    "ON SalesHeader_experiment1.SalesOrderID = SalesDetail.SalesOrderID \n",
    "WHERE YEAR(SalesHeader.OrderDate) = 2023\n",
    "```\n",
    "\n",
    "We would like to better support our data scientists. What changes should we make to better support one-off experiments? What work needs to be done to support these changes?"
   ]
  },
  {
   "cell_type": "code",
   "execution_count": 11,
   "metadata": {},
   "outputs": [
    {
     "ename": "SyntaxError",
     "evalue": "invalid syntax (1087499407.py, line 1)",
     "output_type": "error",
     "traceback": [
      "\u001b[1;36m  Cell \u001b[1;32mIn[11], line 1\u001b[1;36m\u001b[0m\n\u001b[1;33m    Lets assume we have a friendship table, A frindship between pair of rriends x and y\u001b[0m\n\u001b[1;37m         ^\u001b[0m\n\u001b[1;31mSyntaxError\u001b[0m\u001b[1;31m:\u001b[0m invalid syntax\n"
     ]
    }
   ],
   "source": [
    "Lets assume we have a temp table, A frindship between pair of rriends x and y\n",
    "have alleast 3 common friends.\n",
    "\n",
    "Write an SQL query to find all the strong friendships.\n",
    "\n",
    "Note: result table should not contain duplicates with user_id1 < user_id2\n",
    "\n",
    "user_id1   user_id2\n",
    "1           2\n",
    "1           3\n",
    "2           3\n",
    "1           4\n",
    "2           4\n",
    "1           5\n",
    "2           5\n",
    "1           7\n",
    "3           7\n",
    "1           6\n",
    "3           6\n",
    "2           6\n",
    "\n"
   ]
  },
  {
   "cell_type": "code",
   "execution_count": null,
   "metadata": {},
   "outputs": [],
   "source": []
  },
  {
   "cell_type": "code",
   "execution_count": null,
   "metadata": {},
   "outputs": [],
   "source": []
  }
 ],
 "metadata": {
  "kernelspec": {
   "display_name": ".venv",
   "language": "python",
   "name": "python3"
  },
  "language_info": {
   "codemirror_mode": {
    "name": "ipython",
    "version": 3
   },
   "file_extension": ".py",
   "mimetype": "text/x-python",
   "name": "python",
   "nbconvert_exporter": "python",
   "pygments_lexer": "ipython3",
   "version": "3.9.6"
  }
 },
 "nbformat": 4,
 "nbformat_minor": 2
}
