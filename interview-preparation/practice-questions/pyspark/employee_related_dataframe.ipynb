{
 "cells": [
  {
   "cell_type": "code",
   "execution_count": null,
   "metadata": {},
   "outputs": [],
   "source": [
    "from pyspark.sql import SparkSession\n",
    "spark = SparkSession.builder.appName(\"Dataframe Operations\").getOrCreate()"
   ]
  },
  {
   "cell_type": "code",
   "execution_count": null,
   "metadata": {},
   "outputs": [],
   "source": [
    "import datetime\n",
    "from functools import reduce\n",
    "from pyspark.sql.dataframe import DataFrame\n",
    "from pyspark.sql.functions import avg, col, count, first, lit, lower, month, regexp_replace, row_number, rtrim, trim, to_timestamp, year, when\n",
    "from pyspark.sql.types import StructType, StructField, IntegerType, StringType, DateType, DoubleType\n",
    "from pyspark.sql.window import Window"
   ]
  },
  {
   "cell_type": "code",
   "execution_count": null,
   "metadata": {},
   "outputs": [],
   "source": [
    "# Define the schema for the employee DataFrame\n",
    "employee_schema = StructType([\n",
    "    StructField(\"emp_id\", IntegerType(), True),\n",
    "    StructField(\"emp_name\", StringType(), True),\n",
    "    StructField(\"job_name\", StringType(), True),\n",
    "    StructField(\"manager_id\", IntegerType(), True),\n",
    "    StructField(\"hire_date\", DateType(), True),\n",
    "    StructField(\"salary\", DoubleType(), True),\n",
    "    StructField(\"commission\", DoubleType(), True),\n",
    "    StructField(\"dept_id\", IntegerType(), True)\n",
    "])\n",
    "# Create the employee DataFrame using the provided data and schema\n",
    "employee_data = [\n",
    "    (1, \"Rohit\", \"Data Engineer\", None, datetime.date(2020, 1, 1), 60000.0, None, 1),\n",
    "    (2, \"Deep\", \"Manager\", 1, datetime.date(2020, 2, 15), 45000.0, None, 1),\n",
    "    (3, \"Ravi\", \"Analyst\", 1, datetime.date(2020, 3, 10), 55000.0, None, 1),\n",
    "    (4, \"Deepak\", \"Developer\", 1, datetime.date(2020, 1, 20), 48000.0, None, 2),\n",
    "    (5, None, \"Developer\", 1, datetime.date(2021, 2, 5), 52000.0, None, 2),\n",
    "    (6, \"Prakash\", \"Manager\", None, datetime.date(2021, 4, 1), 65000.0, None, None),\n",
    "    (7, \"Olivia\", \"Data Engineer\", 6, datetime.date(2021, 6, 15), 58000.0, None, 3),\n",
    "    (8, \"James\", \"Data Engineer\", 6, datetime.date(2022, 3, 25), 47000.0, None, 3)\n",
    "]\n",
    "\n",
    "employee_df = spark.createDataFrame(data=employee_data, schema=employee_schema)\n",
    "employee_df.show(truncate=False)\n",
    "\n",
    "department = [(1, \"IT\", \"New York\"), (2, \"HR\", \"San Francisco\"), (3, \"Marketing\", \"Los Angeles\"), (None, \"Sales\", \"Chicago\")]\n",
    "department_columns = [\"dept_id\", \"dept_name\", \"dept_location\"]\n",
    "department_df = spark.createDataFrame(data=department, schema=department_columns)\n",
    "department_df.show(truncate=False)\n"
   ]
  },
  {
   "cell_type": "code",
   "execution_count": 5,
   "metadata": {},
   "outputs": [],
   "source": [
    "from datetime import datetime\n",
    "import json\n",
    "import pandas as pd\n",
    "from tqdm import tqdm"
   ]
  },
  {
   "cell_type": "code",
   "execution_count": 4,
   "metadata": {},
   "outputs": [
    {
     "name": "stderr",
     "output_type": "stream",
     "text": [
      "1828971it [00:39, 46053.69it/s]\n"
     ]
    }
   ],
   "source": [
    "# file_path = \"C:\\\\Users\\\\rohitpandey02\\\\OneDrive - Nagarro\\\\Desktop\\\\toys_and_games.json\"\n",
    "file_path = \"C:\\\\Users\\\\rohitpandey02\\\\OneDrive - Nagarro\\\\Desktop\\\\Toys_and_Games_5.json\"\n",
    "data = []\n",
    "with open(file_path, \"r\") as f:\n",
    "    for line in tqdm(f):\n",
    "        data.append(json.loads(line))\n",
    "df = pd.DataFrame(data)"
   ]
  },
  {
   "cell_type": "code",
   "execution_count": 7,
   "metadata": {},
   "outputs": [
    {
     "data": {
      "text/plain": [
       "overall           float64\n",
       "vote               object\n",
       "verified             bool\n",
       "reviewTime         object\n",
       "reviewerID         object\n",
       "asin               object\n",
       "style              object\n",
       "reviewerName       object\n",
       "reviewText         object\n",
       "summary            object\n",
       "unixReviewTime      int64\n",
       "image              object\n",
       "dtype: object"
      ]
     },
     "execution_count": 7,
     "metadata": {},
     "output_type": "execute_result"
    }
   ],
   "source": [
    "df.dtypes"
   ]
  },
  {
   "cell_type": "code",
   "execution_count": 8,
   "metadata": {},
   "outputs": [
    {
     "data": {
      "text/plain": [
       "1828971"
      ]
     },
     "execution_count": 8,
     "metadata": {},
     "output_type": "execute_result"
    }
   ],
   "source": [
    "len(df)"
   ]
  },
  {
   "cell_type": "code",
   "execution_count": 47,
   "metadata": {},
   "outputs": [],
   "source": [
    "df['reviewTime'] = df['reviewTime'].astype(str)\n",
    "filtered_df = df[df['reviewTime'].str.contains('2005|2006|2007|2008|2009|2010')]\n"
   ]
  },
  {
   "cell_type": "code",
   "execution_count": 48,
   "metadata": {},
   "outputs": [
    {
     "data": {
      "text/plain": [
       "36238"
      ]
     },
     "execution_count": 48,
     "metadata": {},
     "output_type": "execute_result"
    }
   ],
   "source": [
    "len(filtered_df)"
   ]
  },
  {
   "cell_type": "code",
   "execution_count": 49,
   "metadata": {},
   "outputs": [],
   "source": [
    "json_file = \"C:\\\\office\\\\rohit-workspace\\\\assignments\\\\PySpark\\\\temp_toys_games.json\"\n",
    "filtered_df.to_json('filtered_data.json', orient='records', lines=True)\n"
   ]
  }
 ],
 "metadata": {
  "kernelspec": {
   "display_name": ".venv",
   "language": "python",
   "name": "python3"
  },
  "language_info": {
   "codemirror_mode": {
    "name": "ipython",
    "version": 3
   },
   "file_extension": ".py",
   "mimetype": "text/x-python",
   "name": "python",
   "nbconvert_exporter": "python",
   "pygments_lexer": "ipython3",
   "version": "3.9.6"
  }
 },
 "nbformat": 4,
 "nbformat_minor": 2
}
