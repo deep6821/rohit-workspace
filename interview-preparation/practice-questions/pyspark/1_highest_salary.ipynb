{
 "cells": [
  {
   "cell_type": "code",
   "execution_count": null,
   "metadata": {},
   "outputs": [],
   "source": [
    "from pyspark.sql import SparkSession\n",
    "\n",
    "from pyspark.sql.functions import col, dense_rank\n",
    "from pyspark.sql.types import StructType, StructField, IntegerType, StringType, DoubleType\n",
    "from pyspark.sql.window import Window"
   ]
  },
  {
   "cell_type": "code",
   "execution_count": null,
   "metadata": {},
   "outputs": [],
   "source": [
    "spark = SparkSession.builder.appName(\"SparkSQL\").getOrCreate()"
   ]
  },
  {
   "cell_type": "code",
   "execution_count": null,
   "metadata": {},
   "outputs": [],
   "source": [
    "csv_file  = \"C:\\office\\rohit-workspace\\interview-preparation\\practice-questions\\pyspark\\employee.csv\"\n",
    "\n",
    "# Define data\n",
    "data = [\n",
    "    (1, \"John Doe\", 50000, \"Engineering\"),\n",
    "    (2, \"Jane Smith\", 60000, \"Human Resources\"),\n",
    "    (3, \"Michael Johnson\", 70000, \"Finance\"),\n",
    "    (4, \"Emily Brown\", 55000, \"Engineering\"),\n",
    "    (5, \"David Lee\", 65000, \"Marketing\"),\n",
    "    (6, \"Sarah Clark\", 75000, \"Finance\"),\n",
    "    (7, \"Alexander Garcia\", 60000, \"Human Resources\"),\n",
    "    (8, \"Emma Martinez\", 52000, \"Engineering\"),\n",
    "    (9, \"James Anderson\", 68000, \"Marketing\"),\n",
    "    (10, \"Sophia Taylor\", 72000, \"Finance\")\n",
    "]\n",
    "# Define schema\n",
    "schema = StructType([\n",
    "      StructField(\"employee_id\", IntegerType(), True),\n",
    "      StructField(\"name\", StringType(), True),\n",
    "      StructField(\"salary\", DoubleType(), True),\n",
    "      StructField(\"department\", StringType(), True)\n",
    "])\n",
    "# Create DataFrame\n",
    "# df = spark.createDataFrame(data, schema)\n",
    "\n",
    "df1 = spark.read.csv(csv_file, header=True, schema=schema)\n",
    "df2 = spark.read.csv(csv_file, header=True, schema=schema)\n"
   ]
  },
  {
   "cell_type": "code",
   "execution_count": null,
   "metadata": {},
   "outputs": [],
   "source": [
    "# 2nd Highest Salary\n",
    "df1 =  df1.withColumn(\"dense_rank\", dense_rank().over(Window.orderBy(col(\"salary\").desc())))\n",
    "df1.filter(col(\"dense_rank\") == 2).select(\"salary\").distinct()"
   ]
  },
  {
   "cell_type": "code",
   "execution_count": null,
   "metadata": {},
   "outputs": [],
   "source": [
    "# Departmentwise Top Salaries\n",
    "df2.groupBy(\"department\").agg({\"salary\": \"max\"}).show()"
   ]
  },
  {
   "cell_type": "code",
   "execution_count": null,
   "metadata": {},
   "outputs": [],
   "source": [
    "# Departmentwise Top 3 Salaries\n",
    "df2 = df2.withColumn(\"dense_rank1\", dense_rank().over(Window.partitionBy(\"department\").orderBy(col(\"salary\").desc())))\n",
    "df2.filter(col(\"dense_rank1\") <= 2).select(\"department\", \"name\", \"salary\").distinct().show()\n"
   ]
  },
  {
   "cell_type": "code",
   "execution_count": null,
   "metadata": {},
   "outputs": [],
   "source": [
    "# Find duplicate, \"id\"\n",
    "\n",
    "items.groupBy(\"id\").count().filter(col(\"count\") > 1).show(50, truncate=False)\n",
    "\n",
    "print(\"\\n=================================================================\")\n",
    "\n",
    "items.groupBy(\"id\").agg(\n",
    "    count(\"*\").alias(\"count\"),\n",
    "    first(\"description\").alias(\"description\"),\n",
    "    first(\"source\").alias(\"source\")\n",
    ").filter(col(\"count\") > 1).show(truncate=False)"
   ]
  }
 ],
 "metadata": {
  "language_info": {
   "name": "python"
  }
 },
 "nbformat": 4,
 "nbformat_minor": 2
}
