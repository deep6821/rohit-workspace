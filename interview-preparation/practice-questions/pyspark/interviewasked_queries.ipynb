{
 "cells": [
  {
   "cell_type": "code",
   "execution_count": null,
   "metadata": {},
   "outputs": [],
   "source": [
    "from pyspark.sql import SparkSession\n",
    "from pyspark.sql.functions import sum\n",
    "\n",
    "# Initialize SparkSession\n",
    "spark = SparkSession.builder.appName(\"GroupBySum\").getOrCreate()\n",
    "\n",
    "# Sample data and columns\n",
    "data = [(\"Alice\", \"A\", 1), (\"Bob\", \"B\", 2), (\"Cathy\", \"A\", 3)]\n",
    "columns = [\"Name\", \"Category\", \"Value\"]\n",
    "\n",
    "# Create DataFrame\n",
    "df = spark.createDataFrame(data, columns)\n",
    "\n",
    "# Group by 'Category' and compute the sum of 'Value'\n",
    "result = df.groupBy(\"Category\").agg(sum(\"Value\").alias(\"sum(Value)\"))\n",
    "\n",
    "# Show the result\n",
    "result.show()\n",
    "\n",
    "# Stop the SparkSession\n",
    "spark.stop()\n",
    "\n",
    "\n",
    "\"\"\"\n",
    "+--------+----------+\n",
    "|Category|sum(Value)|\n",
    "+--------+----------+\n",
    "|       A|         4|\n",
    "|       B|         2|\n",
    "+--------+----------+\n",
    "\"\"\""
   ]
  }
 ],
 "metadata": {
  "language_info": {
   "name": "python"
  }
 },
 "nbformat": 4,
 "nbformat_minor": 2
}
