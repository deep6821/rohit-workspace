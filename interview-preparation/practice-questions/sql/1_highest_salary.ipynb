{
 "cells": [
  {
   "cell_type": "code",
   "execution_count": null,
   "metadata": {},
   "outputs": [],
   "source": [
    "# Second Highest Salary\n",
    "\n",
    "\"\"\"\n",
    "1 ---------------------------------------------------\n",
    "-- select \n",
    "--   max(salary) as SecondHighestSalary from Employee\n",
    "-- where salary < (select max(salary) from Employee);\n",
    "\n",
    "\n",
    "2 -------------------------------------------\n",
    "-- select ifnull((\n",
    "--     select distinct(salary) from Employee \n",
    "--     order by salary desc \n",
    "--     LIMIT 1 OFFSET 1\n",
    "-- ), null) SecondHighestSalary;\n",
    "\n",
    "Without ifnull or coalesce\n",
    "select \n",
    "  distinct(salary) as second_highest_salary\n",
    "from employee \n",
    "order by salary desc \n",
    "limit 1 offset 1;\n",
    "\n",
    "3.\n",
    "select nullif((select distinct salary from (\n",
    "   select \n",
    "   salary, \n",
    "   dense_rank() over (order by salary desc) as rownumber from Employee\n",
    "   ) temp where temp.rownumber=2), null) SecondHighestSalary;\n",
    "\n",
    "select \n",
    "  distinct(salary) as second_highest_salary \n",
    "from \n",
    "  (select salary, dense_rank() over(order by salary desc) as rownumber from employee) temp\n",
    "where rownumber=2;\n",
    "\n",
    "\"\"\"\n"
   ]
  },
  {
   "cell_type": "code",
   "execution_count": null,
   "metadata": {},
   "outputs": [],
   "source": [
    "# Department Top Salaries\n",
    "\"\"\"\n",
    "select department, max(salary) as max_salary from employee\n",
    "group by department;\n",
    "\"\"\""
   ]
  },
  {
   "cell_type": "code",
   "execution_count": null,
   "metadata": {},
   "outputs": [],
   "source": [
    "# Department Top Three Salaries\n",
    "\"\"\"\n",
    "with cte as (\n",
    "  select \n",
    "    d.name as Department,\n",
    "    e.name as Employee, \n",
    "    e.salary as Salary\n",
    "  from Employee e join Department d on e.departmentId=d.id\n",
    "),\n",
    "cte1 as (\n",
    "  select \n",
    "    *, \n",
    "    dense_rank() over(partition by Department order by Salary desc) as rownumber\n",
    "  from cte\n",
    ")\n",
    "select Department, Employee, Salary from cte1 where rownumber <= 3;\n",
    "\"\"\""
   ]
  }
 ],
 "metadata": {
  "language_info": {
   "name": "python"
  }
 },
 "nbformat": 4,
 "nbformat_minor": 2
}
