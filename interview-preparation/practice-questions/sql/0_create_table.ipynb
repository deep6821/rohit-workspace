{
 "cells": [
  {
   "cell_type": "code",
   "execution_count": null,
   "metadata": {},
   "outputs": [],
   "source": [
    "CREATE TABLE employee_list (\n",
    "    first_name VARCHAR,\n",
    "    last_name VARCHAR,\n",
    "    profession VARCHAR,\n",
    "    employee_id INT,\n",
    "    birthday DATE,\n",
    "    birth_month INT\n",
    ");\n",
    "\n",
    "INSERT INTO \n",
    "  employee_list (first_name, last_name, profession, employee_id, birthday, birth_month) \n",
    "  VALUES\n",
    "    ('John', 'Johnson', 'Doctor', 1, '1980-05-15', 5),\n",
    "\t('Jane', 'Johnson', 'Doctor', 2, '1975-08-22', 8),\n",
    "\t('Michael', 'Smith', 'Nurse', 3, '1990-03-10', 3),\n",
    "\t('Sarah', 'Williams', 'Doctor', 4, '1982-11-30', 11),\n",
    "\t('David', 'Johnson', 'Surgeon', 5, '1978-02-18', 2),\n",
    "\t('Emily', 'Brown', 'Nurse', 6, '1985-09-05', 9),\n",
    "\t('Robert', 'Johnson', 'Doctor', 7, '1977-06-20', 6),\n",
    "\t('Lisa', 'Johnson', 'Doctor', 8, '1988-04-12', 4),\n",
    "\t('Matthew', 'Johnson', 'Doctor', 9, '1983-12-25', 12),\n",
    "\t('Amanda', 'Johnson', 'Nurse', 10, '1992-07-17', 7),\n",
    "\t('Kevin', 'Johnson', 'Doctor', 11, '1979-10-08', 10),\n",
    "\t('Jennifer', 'Johnson', 'Nurse', 12, '1986-01-28', 1),\n",
    "\t('Christopher', 'Smith', 'Doctor', 13, '1974-03-03', 3),\n",
    "\t('Stephanie', 'Johnson', 'Doctor', 14, '1981-09-14', 9),\n",
    "\t('Mark', 'Johnson', 'Surgeon', 15, '1976-08-09', 8);\n",
    "\t\n",
    "SELECT * FROM employee_list;\n"
   ]
  },
  {
   "cell_type": "code",
   "execution_count": null,
   "metadata": {},
   "outputs": [],
   "source": [
    "CREATE TABLE olympics_data (\n",
    "    id INT,\n",
    "    name VARCHAR,\n",
    "    sex VARCHAR,\n",
    "    age FLOAT,\n",
    "    height FLOAT,\n",
    "    weight DATE,\n",
    "    team VARCHAR,\n",
    "    noc VARCHAR,\n",
    "    games VARCHAR,\n",
    "    year INT,\n",
    "    season VARCHAR,\n",
    "    city VARCHAR,\n",
    "    sport VARCHAR,\n",
    "    event VARCHAR,\n",
    "    medal VARCHAR\n",
    ");\n",
    "\n",
    "INSERT INTO \n",
    "    olympics_data (id, name, sex, age, height, weight, team, noc, games, year, season, city, sport, event, medal) \n",
    "VALUES\n",
    "\t(1, 'John Doe', 'M', 25, 180.5, '2023-01-01', 'Team A', 'NOC1', 'Summer Games', 1896, 'Summer', 'Athens', 'Athletics', '100m', 'Gold'),\n",
    "\t(2, 'Jane Doe', 'F', 23, 165.2, '2023-01-01', 'Team B', 'NOC2', 'Summer Games', 1896, 'Summer', 'Athens', 'Swimming', '100m Freestyle', 'Silver'),\n",
    "\t(3, 'Michael Smith', 'M', 28, 190.0, '2023-01-01', 'Team C', 'NOC3', 'Winter Games', 1924, 'Winter', 'Chamonix', 'Skiing', 'Cross-Country', NULL),\n",
    "\t(4, 'Emily Johnson', 'F', 26, 170.3, '2023-01-01', 'Team D', 'NOC4', 'Summer Games', 1924, 'Summer', 'Paris', 'Fencing', 'Foil Individual', 'Bronze'),\n",
    "\t(5, 'Robert Brown', 'M', 30, 175.0, '2023-01-01', 'Team E', 'NOC1', 'Summer Games', 1900, 'Summer', 'Paris', 'Cycling', 'Road Race', NULL),\n",
    "\t(6, 'Emma Wilson', 'F', 29, 160.5, '2023-01-01', 'Team F', 'NOC2', 'Summer Games', 1900, 'Summer', 'Paris', 'Tennis', 'Singles', 'Gold'),\n",
    "\t(7, 'William Taylor', 'M', 32, 185.0, '2023-01-01', 'Team G', 'NOC3', 'Winter Games', 1924, 'Winter', 'Chamonix', 'Ice Hockey', 'Ice Hockey', 'Gold'),\n",
    "\t(8, 'Olivia Clark', 'F', 28, 175.5, '2023-01-01', 'Team H', 'NOC4', 'Summer Games', 1924, 'Summer', 'Paris', 'Gymnastics', 'Floor Exercise', 'Silver'),\n",
    "\t(9, 'James White', 'M', 27, 170.0, '2023-01-01', 'Team I', 'NOC1', 'Summer Games', 1900, 'Summer', 'Paris', 'Rowing', 'Single Sculls', 'Bronze'),\n",
    "\t(10, 'Sophia Martinez', 'F', 25, 163.0, '2023-01-01', 'Team J', 'NOC2', 'Summer Games', 1900, 'Summer', 'Paris', 'Athletics', 'Long Jump', 'Bronze');\n"
   ]
  }
 ],
 "metadata": {
  "language_info": {
   "name": "python"
  }
 },
 "nbformat": 4,
 "nbformat_minor": 2
}
