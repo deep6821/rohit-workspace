{
 "cells": [
  {
   "cell_type": "code",
   "execution_count": null,
   "metadata": {},
   "outputs": [],
   "source": [
    "# Second Highest Salary\n",
    "\n",
    "\"\"\"\n",
    "-- select \n",
    "--   max(salary) as SecondHighestSalary from Employee\n",
    "-- where salary < (select max(salary) from Employee);\n",
    "\n",
    "\n",
    "\n",
    "-- select ifnull((\n",
    "--     select distinct(salary) from Employee \n",
    "--     order by salary desc \n",
    "--     LIMIT 1 OFFSET 1\n",
    "-- ), null) SecondHighestSalary;\n",
    "\n",
    "\n",
    "select nullif((select distinct salary from (\n",
    "   select \n",
    "   salary, \n",
    "   dense_rank() over (order by salary desc) as rownumber from Employee\n",
    "   ) temp where temp.rownumber=2), null) SecondHighestSalary;\n",
    "\n",
    "\"\"\"\n"
   ]
  },
  {
   "cell_type": "code",
   "execution_count": null,
   "metadata": {},
   "outputs": [],
   "source": [
    "# Department Top Three Salaries\n",
    "\"\"\"\n",
    "with cte as (\n",
    "  select \n",
    "    d.name as Department,\n",
    "    e.name as Employee, \n",
    "    e.salary as Salary\n",
    "  from Employee e join Department d on e.departmentId=d.id\n",
    "),\n",
    "cte1 as (\n",
    "  select \n",
    "    *, \n",
    "    dense_rank() over(partition by Department order by Salary desc) as rownumber\n",
    "  from cte\n",
    ")\n",
    "select Department, Employee, Salary from cte1 where rownumber <= 3;\n",
    "\"\"\""
   ]
  }
 ],
 "metadata": {
  "language_info": {
   "name": "python"
  }
 },
 "nbformat": 4,
 "nbformat_minor": 2
}
