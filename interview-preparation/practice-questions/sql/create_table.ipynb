{
 "cells": [
  {
   "cell_type": "code",
   "execution_count": null,
   "metadata": {},
   "outputs": [],
   "source": [
    "CREATE TABLE employee_list (\n",
    "    first_name VARCHAR,\n",
    "    last_name VARCHAR,\n",
    "    profession VARCHAR,\n",
    "    employee_id INT,\n",
    "    birthday DATE,\n",
    "    birth_month INT\n",
    ");\n",
    "\n",
    "INSERT INTO \n",
    "  employee_list (first_name, last_name, profession, employee_id, birthday, birth_month) \n",
    "  VALUES\n",
    "    ('John', 'Johnson', 'Doctor', 1, '1980-05-15', 5),\n",
    "\t('Jane', 'Johnson', 'Doctor', 2, '1975-08-22', 8),\n",
    "\t('Michael', 'Smith', 'Nurse', 3, '1990-03-10', 3),\n",
    "\t('Sarah', 'Williams', 'Doctor', 4, '1982-11-30', 11),\n",
    "\t('David', 'Johnson', 'Surgeon', 5, '1978-02-18', 2),\n",
    "\t('Emily', 'Brown', 'Nurse', 6, '1985-09-05', 9),\n",
    "\t('Robert', 'Johnson', 'Doctor', 7, '1977-06-20', 6),\n",
    "\t('Lisa', 'Johnson', 'Doctor', 8, '1988-04-12', 4),\n",
    "\t('Matthew', 'Johnson', 'Doctor', 9, '1983-12-25', 12),\n",
    "\t('Amanda', 'Johnson', 'Nurse', 10, '1992-07-17', 7),\n",
    "\t('Kevin', 'Johnson', 'Doctor', 11, '1979-10-08', 10),\n",
    "\t('Jennifer', 'Johnson', 'Nurse', 12, '1986-01-28', 1),\n",
    "\t('Christopher', 'Smith', 'Doctor', 13, '1974-03-03', 3),\n",
    "\t('Stephanie', 'Johnson', 'Doctor', 14, '1981-09-14', 9),\n",
    "\t('Mark', 'Johnson', 'Surgeon', 15, '1976-08-09', 8);\n",
    "\t\n",
    "SELECT * FROM employee_list;\n"
   ]
  }
 ],
 "metadata": {
  "language_info": {
   "name": "python"
  }
 },
 "nbformat": 4,
 "nbformat_minor": 2
}
