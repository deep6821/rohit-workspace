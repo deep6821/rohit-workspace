{
 "cells": [
  {
   "cell_type": "code",
   "execution_count": null,
   "metadata": {},
   "outputs": [],
   "source": [
    "\"\"\"\n",
    "# Find doctors with the last name of 'Johnson' in the employee list. The \n",
    "output should contain both their first and last names.\n",
    "\n",
    "SELECT \n",
    "  first_name, \n",
    "  last_name \n",
    "FROM \n",
    "  employee_list \n",
    "WHERE \n",
    "  last_name = 'Johnson' AND profession = 'Doctor';\n",
    "\"\"\""
   ]
  }
 ],
 "metadata": {
  "language_info": {
   "name": "python"
  }
 },
 "nbformat": 4,
 "nbformat_minor": 2
}
