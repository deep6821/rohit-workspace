{
 "cells": [
  {
   "cell_type": "code",
   "execution_count": null,
   "metadata": {},
   "outputs": [],
   "source": [
    "\"\"\"\n",
    "Data Structure in Pandas\n",
    "1. Series: A one-dimensional array that can hold any data type. It is similar to a column in a \n",
    "   spreadsheet or a single column in a SQL table.\n",
    "\n",
    "2. DataFrame: A two-dimensional table with rows and columns. It is similar to a spreadsheet or a\n",
    "   SQL table. Each column in a DataFrame is a Series.\n",
    "\"\"\""
   ]
  },
  {
   "cell_type": "code",
   "execution_count": 1,
   "metadata": {},
   "outputs": [],
   "source": [
    "import pandas as pd"
   ]
  },
  {
   "cell_type": "code",
   "execution_count": 2,
   "metadata": {},
   "outputs": [
    {
     "name": "stdout",
     "output_type": "stream",
     "text": [
      "Empty DataFrame\n",
      "Columns: []\n",
      "Index: []\n"
     ]
    }
   ],
   "source": [
    "# Create empty dataframe\n",
    "df = pd.DataFrame()\n",
    "print(df)"
   ]
  },
  {
   "cell_type": "code",
   "execution_count": 4,
   "metadata": {},
   "outputs": [
    {
     "name": "stdout",
     "output_type": "stream",
     "text": [
      "   Name  Age\n",
      "0   tom   10\n",
      "1  nick   15\n",
      "2  juli   14\n",
      "\n",
      " -------\n",
      "    Name  Age\n",
      "0    Tom   20\n",
      "1   nick   21\n",
      "2  krish   19\n",
      "3   jack   18\n"
     ]
    }
   ],
   "source": [
    "data1 = [['tom', 10], ['nick', 15], ['juli', 14]]\n",
    "data2 = {\n",
    "    'Name': ['Tom', 'nick', 'krish', 'jack'],\n",
    "    'Age': [20, 21, 19, 18]\n",
    "}\n",
    "\n",
    "df1 = pd.DataFrame(data1, columns=['Name', 'Age'])\n",
    "df2 = pd.DataFrame(data2)\n",
    "\n",
    "print(df1)\n",
    "print(\"\\n -------\")\n",
    "print(df2)"
   ]
  },
  {
   "cell_type": "code",
   "execution_count": 11,
   "metadata": {},
   "outputs": [
    {
     "name": "stdout",
     "output_type": "stream",
     "text": [
      "0    10\n",
      "1    15\n",
      "2    14\n",
      "Name: Age, dtype: int64\n",
      "\n",
      " -------\n",
      "Name    tom\n",
      "Age      10\n",
      "Name: 0, dtype: object\n",
      "\n",
      " -------\n",
      "nick\n"
     ]
    }
   ],
   "source": [
    "# Access a column\n",
    "print(df1[\"Age\"])\n",
    "print(\"\\n -------\")\n",
    "# Accessing a row by index\n",
    "print(df1.loc[0])\n",
    "print(\"\\n -------\")\n",
    "# Accessing a specific element\n",
    "element = df1.at[1, 'Name']\n",
    "print(element)\n",
    "print(\"\\n -------\")\n",
    "# Filtering based on a condition\n",
    "young_people = df1[df1['Age'] < 30]\n",
    "print(young_people)"
   ]
  },
  {
   "cell_type": "code",
   "execution_count": 13,
   "metadata": {},
   "outputs": [
    {
     "name": "stdout",
     "output_type": "stream",
     "text": [
      "   Name  Age\n",
      "0   tom   10\n",
      "1  nick   15\n",
      "2  juli   14\n"
     ]
    }
   ],
   "source": [
    "# Adding a new column\n",
    "df1['IsStudent'] = [False, True, False]\n",
    "\n",
    "# Removing a column\n",
    "df1 = df1.drop('IsStudent', axis=1)\n"
   ]
  },
  {
   "cell_type": "code",
   "execution_count": 14,
   "metadata": {},
   "outputs": [],
   "source": [
    "# Grouping by 'City' and calculating the mean age\n",
    "average_age_by_city = df.groupby('City')['Age'].mean()\n",
    "\n",
    "# Merging two DataFrames based on 'Name'\n",
    "merged_df = pd.merge(df1, df2, on='Name')\n",
    "\n",
    "# Concatenating two DataFrames vertically\n",
    "concatenated_df = pd.concat([df1, df2], axis=0)\n"
   ]
  },
  {
   "cell_type": "code",
   "execution_count": null,
   "metadata": {},
   "outputs": [],
   "source": [
    "\"\"\"\n",
    "Handling Missing Data:\n",
    "1. isnull(), notnull(): Check for missing or non-missing values.\n",
    "2. fillna(): Fill missing values with a specified value or strategy.\n",
    "3. dropna(): Remove rows or columns with missing values.\n",
    "\"\"\"\n",
    "\n",
    "# Checking for missing values\n",
    "missing_values = df.isnull()\n",
    "\n",
    "# Filling missing values with the mean\n",
    "df_filled = df.fillna(df.mean())\n",
    "\n"
   ]
  }
 ],
 "metadata": {
  "kernelspec": {
   "display_name": ".venv",
   "language": "python",
   "name": "python3"
  },
  "language_info": {
   "codemirror_mode": {
    "name": "ipython",
    "version": 3
   },
   "file_extension": ".py",
   "mimetype": "text/x-python",
   "name": "python",
   "nbconvert_exporter": "python",
   "pygments_lexer": "ipython3",
   "version": "3.9.6"
  }
 },
 "nbformat": 4,
 "nbformat_minor": 2
}
