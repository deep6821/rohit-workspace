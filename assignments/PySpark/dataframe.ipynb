{
 "cells": [
  {
   "cell_type": "code",
   "execution_count": null,
   "metadata": {},
   "outputs": [],
   "source": [
    "from pyspark.sql import SparkSession\n",
    "spark = SparkSession.builder.appName(\"Dataframe Operations\").getOrCreate()"
   ]
  },
  {
   "cell_type": "code",
   "execution_count": null,
   "metadata": {},
   "outputs": [],
   "source": [
    "import datetime\n",
    "from functools import reduce\n",
    "from pyspark.sql.dataframe import DataFrame\n",
    "from pyspark.sql.functions import avg, col, count, first, lit, lower, month, regexp_replace, row_number, rtrim, trim, to_timestamp, year, when\n",
    "from pyspark.sql.types import StructType, StructField, IntegerType, StringType, DateType, DoubleType\n",
    "from pyspark.sql.window import Window"
   ]
  },
  {
   "cell_type": "code",
   "execution_count": null,
   "metadata": {},
   "outputs": [],
   "source": [
    "# Define the schema for the employee DataFrame\n",
    "employee_schema = StructType([\n",
    "    StructField(\"emp_id\", IntegerType(), True),\n",
    "    StructField(\"emp_name\", StringType(), True),\n",
    "    StructField(\"job_name\", StringType(), True),\n",
    "    StructField(\"manager_id\", IntegerType(), True),\n",
    "    StructField(\"hire_date\", DateType(), True),\n",
    "    StructField(\"salary\", DoubleType(), True),\n",
    "    StructField(\"commission\", DoubleType(), True),\n",
    "    StructField(\"dept_id\", IntegerType(), True)\n",
    "])\n",
    "# Create the employee DataFrame using the provided data and schema\n",
    "employee_data = [\n",
    "    (1, \"Rohit\", \"Data Engineer\", None, datetime.date(2020, 1, 1), 60000.0, None, 1),\n",
    "    (2, \"Deep\", \"Manager\", 1, datetime.date(2020, 2, 15), 45000.0, None, 1),\n",
    "    (3, \"Ravi\", \"Analyst\", 1, datetime.date(2020, 3, 10), 55000.0, None, 1),\n",
    "    (4, \"Deepak\", \"Developer\", 1, datetime.date(2020, 1, 20), 48000.0, None, 2),\n",
    "    (5, None, \"Developer\", 1, datetime.date(2021, 2, 5), 52000.0, None, 2),\n",
    "    (6, \"Prakash\", \"Manager\", None, datetime.date(2021, 4, 1), 65000.0, None, None),\n",
    "    (7, \"Olivia\", \"Data Engineer\", 6, datetime.date(2021, 6, 15), 58000.0, None, 3),\n",
    "    (8, \"James\", \"Data Engineer\", 6, datetime.date(2022, 3, 25), 47000.0, None, 3)\n",
    "]\n",
    "\n",
    "employee_df = spark.createDataFrame(data=employee_data, schema=employee_schema)\n",
    "employee_df.show(truncate=False)\n",
    "\n",
    "department = [(1, \"IT\", \"New York\"), (2, \"HR\", \"San Francisco\"), (3, \"Marketing\", \"Los Angeles\"), (None, \"Sales\", \"Chicago\")]\n",
    "department_columns = [\"dept_id\", \"dept_name\", \"dept_location\"]\n",
    "department_df = spark.createDataFrame(data=department, schema=department_columns)\n",
    "department_df.show(truncate=False)\n"
   ]
  }
 ],
 "metadata": {
  "language_info": {
   "name": "python"
  }
 },
 "nbformat": 4,
 "nbformat_minor": 2
}
