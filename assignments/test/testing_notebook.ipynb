{
 "cells": [
  {
   "cell_type": "code",
   "execution_count": 2,
   "metadata": {},
   "outputs": [],
   "source": [
    "import boto3\n",
    "import os\n",
    "from dotenv import load_dotenv\n",
    "\n",
    "# Load environment variables from .env file\n",
    "load_dotenv()\n",
    "\n",
    "# Access AWS credentials\n",
    "aws_access_key_id = os.getenv(\"AWS_ACCESS_KEY_ID\")\n",
    "aws_secret_access_key = os.getenv(\"AWS_SECRET_ACCESS_KEY\")\n",
    "region_name = os.getenv(\"AWS_REGION_NAME\")\n"
   ]
  },
  {
   "cell_type": "code",
   "execution_count": 21,
   "metadata": {},
   "outputs": [],
   "source": [
    "s3_resource = boto3.resource(\n",
    "    service_name=\"s3\",\n",
    "    region_name=region_name,\n",
    "    aws_access_key_id=aws_access_key_id,\n",
    "    aws_secret_access_key=aws_secret_access_key\n",
    ")"
   ]
  },
  {
   "cell_type": "code",
   "execution_count": 22,
   "metadata": {},
   "outputs": [
    {
     "name": "stdout",
     "output_type": "stream",
     "text": [
      "rohit-test-aws-bucket\n"
     ]
    }
   ],
   "source": [
    "for bucket in s3_resource.buckets.all():\n",
    "    print(bucket.name)"
   ]
  },
  {
   "cell_type": "code",
   "execution_count": 24,
   "metadata": {},
   "outputs": [
    {
     "name": "stdout",
     "output_type": "stream",
     "text": [
      "data.csv\n",
      "b'employee_id,name,salary,department\\r\\n1,John Doe,50000,Engineering\\r\\n2,Jane Smith,60000,Human Resources\\r\\n3,Michael Johnson,70000,Finance\\r\\n4,Emily Brown,55000,Engineering\\r\\n5,David Lee,65000,Marketing\\r\\n6,Sarah Clark,75000,Finance\\r\\n7,Alexander Garcia,60000,Human Resources\\r\\n8,Emma Martinez,52000,Engineering\\r\\n9,James Anderson,68000,Marketing\\r\\n10,,72000,Finance\\r\\n'\n"
     ]
    }
   ],
   "source": [
    "bucket_name = s3_resource.Bucket('rohit-test-aws-bucket')\n",
    "for obj in bucket_name.objects.all():\n",
    "    key = obj.key\n",
    "    body = obj.get()['Body'].read()\n",
    "    print(key)\n",
    "    print(body)"
   ]
  }
 ],
 "metadata": {
  "kernelspec": {
   "display_name": "Python 3",
   "language": "python",
   "name": "python3"
  },
  "language_info": {
   "codemirror_mode": {
    "name": "ipython",
    "version": 3
   },
   "file_extension": ".py",
   "mimetype": "text/x-python",
   "name": "python",
   "nbconvert_exporter": "python",
   "pygments_lexer": "ipython3",
   "version": "3.9.6"
  }
 },
 "nbformat": 4,
 "nbformat_minor": 2
}
